{
 "cells": [
  {
   "cell_type": "code",
   "execution_count": 1,
   "metadata": {},
   "outputs": [],
   "source": [
    "import ee\n",
    "import gdal\n",
    "import datetime"
   ]
  },
  {
   "cell_type": "code",
   "execution_count": 4,
   "metadata": {},
   "outputs": [],
   "source": [
    "a = gdal.Open('HLS.S30.T17MPP.2016023.v1.5.hdf')"
   ]
  },
  {
   "cell_type": "code",
   "execution_count": 5,
   "metadata": {},
   "outputs": [
    {
     "name": "stdout",
     "output_type": "stream",
     "text": [
      "{'ACCODE': 'LaSRCS2AV3.5.5', 'AngleBand': '0, 1, 2, 3, 4, 5, 6, 7, 8, 9, 10, 11, 12', 'arop_ave_xshift(meters)': '-8.5', 'arop_ave_yshift(meters)': '0.900000000023283', 'arop_ncp': '756', 'arop_rmse(meters)': '2.96', 'arop_s2_refimg': '/home/ec2-user/S2REFIMG/17MPP.2016.10.29.0.S2A_B08.bin', 'cloud_coverage': '80', 'DATASTRIP_ID': 'S2A_OPER_MSI_L1C_DS_SGS__20160123T211815_S20160123T154009_N02.01', 'HLS_PROCESSING_TIME': '2019-10-19T00:21:26Z', 'HORIZONTAL_CS_CODE': 'EPSG:32717', 'HORIZONTAL_CS_NAME': 'WGS84 / UTM zone 17S', 'L1C_IMAGE_QUALITY': 'SENSOR:PASSED GEOMETRIC:FAILED GENERAL:PASSED FORMAT:PASSED RADIOMETRIC:PASSED ', 'L1_PROCESSING_TIME': '2016-01-23T22:42:03.737372Z', 'MEAN_SUN_AZIMUTH_ANGLE(B01)': '120.289954727468', 'MEAN_SUN_ZENITH_ANGLE(B01)': '28.9712173064988', 'MEAN_VIEW_AZIMUTH_ANGLE(B01)': '172.534040857512', 'MEAN_VIEW_ZENITH_ANGLE(B01)': '3.07716167056544', 'MSI band 01 bandpass adjustment slope and offset': '0.995900, -0.000200', 'MSI band 02 bandpass adjustment slope and offset': '0.977800, -0.004000', 'MSI band 03 bandpass adjustment slope and offset': '1.005300, -0.000900', 'MSI band 04 bandpass adjustment slope and offset': '0.976500, 0.000900', 'MSI band 11 bandpass adjustment slope and offset': '0.998700, -0.001100', 'MSI band 12 bandpass adjustment slope and offset': '1.003000, -0.001200', 'MSI band 8a bandpass adjustment slope and offset': '0.998300, -0.000100', 'NBAR_Solar_Zenith': '31.0276660863093', 'NCOLS': '3660', 'NROWS': '3660', 'PROCESSING_BASELINE': '02.01', 'PRODUCT_URI': '370_2016-01-25T18_37', 'SENSING_TIME': '2016-01-23T15:46:53.859Z', 'SPACECRAFT_NAME': 'Sentinel-2A', 'spatial_coverage': '100', 'SPATIAL_RESOLUTION': '30', 'TILE_ID': 'S2A_OPER_MSI_L1C_TL_SGS__20160123T211815_A003068_T17MPP_N02.01', 'ULX': '600000', 'ULY': '-600000'}\n"
     ]
    }
   ],
   "source": [
    "print(a.GetMetadata())"
   ]
  },
  {
   "cell_type": "code",
   "execution_count": 20,
   "metadata": {},
   "outputs": [
    {
     "name": "stdout",
     "output_type": "stream",
     "text": [
      "2018-01-03T15:21:27.4783660Z\n",
      "2018-01-03 15:21:27.478366\n"
     ]
    }
   ],
   "source": [
    "time = a.GetMetadata()['SENSING_TIME'].split(';')\n",
    "t0 = time[0].strip(' ')\n",
    "print(t0)\n",
    "d = datetime.datetime.strptime(t0, '%Y-%m-%dT%H:%M:%S.%f0Z')\n",
    "print(d)"
   ]
  }
 ],
 "metadata": {
  "kernelspec": {
   "display_name": "Python 3",
   "language": "python",
   "name": "python3"
  },
  "language_info": {
   "codemirror_mode": {
    "name": "ipython",
    "version": 3
   },
   "file_extension": ".py",
   "mimetype": "text/x-python",
   "name": "python",
   "nbconvert_exporter": "python",
   "pygments_lexer": "ipython3",
   "version": "3.7.4"
  }
 },
 "nbformat": 4,
 "nbformat_minor": 2
}
